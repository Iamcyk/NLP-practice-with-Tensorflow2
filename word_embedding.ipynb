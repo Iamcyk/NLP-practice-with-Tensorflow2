{
 "cells": [
  {
   "cell_type": "markdown",
   "metadata": {},
   "source": [
    "# 使用数字代替文本 "
   ]
  },
  {
   "cell_type": "markdown",
   "metadata": {},
   "source": [
    "## one-hot向量"
   ]
  },
  {
   "cell_type": "markdown",
   "metadata": {},
   "source": [
    "使用one-hot向量十分低效，one-hot向量十分稀疏，大部分都是0\n",
    "并且随着词汇表大小的增加，one-hot向量的维度也会不断变大"
   ]
  },
  {
   "cell_type": "markdown",
   "metadata": {},
   "source": [
    "## 使用单独的数字进行编码"
   ]
  },
  {
   "cell_type": "markdown",
   "metadata": {},
   "source": [
    "我们对每一个单词进行编码，每一个单词对应一个数字，这样虽然十分高效，但是：\n",
    "1. 使用一个数字编码一个单词过于绝对，这样不能获得到单词间的联系\n",
    "2. 使用一个数字是的模型对于该单词解释过于困难。如线性分类器为每个特征学习单个权重。因为两个单词之间的相似性与其编码之间的相似性没有任何关系，这种特征权重的组合是没有意义的"
   ]
  },
  {
   "cell_type": "markdown",
   "metadata": {},
   "source": [
    "## word embedding"
   ]
  },
  {
   "cell_type": "markdown",
   "metadata": {},
   "source": [
    "词嵌入为我们提供了一种使用高效、密集表示的方法，其中相似的单词具有相似的编码。重要的是，我们不必手工指定这种编码。嵌入是浮点值的密集向量（向量的长度是您指定的参数）。它们不是手动指定嵌入的值，而是可训练的参数（训练期间模型学习的权重，与模型学习稠密层权重的方式相同）。在处理大型数据集时，常见的词嵌入是8维的（对于小型数据集），最多可达1024维。更高维度的嵌入可以捕获单词之间的细粒度关系，但需要更多的数据来学习。"
   ]
  },
  {
   "cell_type": "code",
   "execution_count": 3,
   "metadata": {},
   "outputs": [],
   "source": [
    "import tensorflow as tf\n",
    "import tensorflow.keras as keras\n",
    "import tensorflow.keras.layers as layers\n",
    "import tensorflow_datasets as tfds\n",
    "tfds.disable_progress_bar()\n",
    "\n",
    "\n",
    "import os\n",
    "os.environ['TF_CPP_MIN_LOG_LEVEL'] = '1'\n",
    "os.environ['TF_CPP_MIN_LOG_LEVEL'] = '2'\n",
    "os.environ[\"KMP_DUPLICATE_LIB_OK\"]=\"TRUE\"\n"
   ]
  },
  {
   "cell_type": "markdown",
   "metadata": {},
   "source": [
    "对于此数据集，进行一点说明，只是我自己的想法，此文本编码器将可逆地对任何字符串进行编码，必要时返回字节编码。  \n",
    "有些词汇并不在我们最终训练的词汇表中。\n",
    "最终的词汇表里面有写并不是一个完整的单词。\n",
    "可能是 因为词汇表只有8185.可能有些词语没有收录，就只能对该单词部分字节编码了（词汇表中包含了用于构建一些大单词的部分词根，所以可以构建任何单词。）  \n",
    "比如词汇表中没有tensorflow，就会将其拆分为单词表中有的'ten'+'sor'+'fl'+'ow'这四部分词根"
   ]
  },
  {
   "cell_type": "code",
   "execution_count": 4,
   "metadata": {},
   "outputs": [],
   "source": [
    "(train_data, test_data), info = tfds.load(\n",
    "    'imdb_reviews/subwords8k', \n",
    "    split = (tfds.Split.TRAIN, tfds.Split.TEST), \n",
    "    with_info=True, as_supervised=True)"
   ]
  },
  {
   "cell_type": "markdown",
   "metadata": {},
   "source": [
    "The \"_\" in the vocabulary represent spaces. Note how the vocabulary includes whole words (ending with \"_\") and partial words which it can use to build larger words:\n",
    "单词后面的_代表的是空格，词汇表中还会看到一些部分单词，这代表的是用于构建一些单词的部分词根，如‘br’，‘er’等"
   ]
  },
  {
   "cell_type": "code",
   "execution_count": 5,
   "metadata": {},
   "outputs": [
    {
     "data": {
      "text/plain": [
       "['the_',\n",
       " ', ',\n",
       " '. ',\n",
       " 'a_',\n",
       " 'and_',\n",
       " 'of_',\n",
       " 'to_',\n",
       " 's_',\n",
       " 'is_',\n",
       " 'br',\n",
       " 'in_',\n",
       " 'I_',\n",
       " 'that_',\n",
       " 'this_',\n",
       " 'it_',\n",
       " ' /><',\n",
       " ' />',\n",
       " 'was_',\n",
       " 'The_',\n",
       " 'as_']"
      ]
     },
     "execution_count": 5,
     "metadata": {},
     "output_type": "execute_result"
    }
   ],
   "source": [
    "encoder=info.features['text'].encoder\n",
    "encoder.subwords[:20]"
   ]
  },
  {
   "cell_type": "code",
   "execution_count": 6,
   "metadata": {},
   "outputs": [
    {
     "name": "stdout",
     "output_type": "stream",
     "text": [
      "(<tf.Tensor: shape=(855,), dtype=int64, numpy=\n",
      "array([ 249,    4,  277,  309,  560,    6, 6639, 4574,    2,   12,   31,\n",
      "       7759, 3525, 2128,   93, 2306,   43, 2312, 2527,    6,   30, 1334,\n",
      "       8044,   24,   10,   16,   10,   17,  977,   30,  815, 3339,   41,\n",
      "        841, 7911,  376, 7974, 1923,    6,  607,  219,   44,  242, 1603,\n",
      "         11, 4329,  102, 2821, 1139,    2,  969,  161,   51,   18,    4,\n",
      "       5844, 2820,  123, 4493,   40,    6, 4571,   13,  117,   35,  289,\n",
      "        850,  455,   50,  460, 6359, 1069,  343,   20,    1, 3733, 3511,\n",
      "       7670,    3,  147,    4,  336,    2,   42,   18,    4, 3422,  409,\n",
      "       3533,  871, 2836,  311,    5, 5080, 1209,    3,  183,  117,   35,\n",
      "       1187,    5, 1955,   11,    1,  226, 7745,    3,  183, 1466, 7359,\n",
      "       7961, 1466,  665,    2, 6854, 3178, 1377, 6266, 1447,  297,    2,\n",
      "       5797,   36, 4740,  847, 8050,    2,    5, 1929, 1631, 5986,   22,\n",
      "       5541, 5688,    5, 1036, 3746, 8050,    3,   69,  264,   35,    4,\n",
      "       4224,    2,   26,   42,   18,    4,  474, 7968,    8, 1626,   24,\n",
      "         10,   16,   10,   17,  134,   15,    9,    1,  435,   13,    9,\n",
      "         55,  598, 2357,   48,   30, 6611, 8044,    3,  500,    1,  101,\n",
      "          6, 2793,    2, 6548, 7961, 5861,  311,    9,  139, 5398, 2270,\n",
      "         11, 3674, 1642,   25, 7796, 7961, 5012,    3,  404,    6,    1,\n",
      "        495, 2632,    5, 5550,  353,    9,  181,  741,    2,   26, 7297,\n",
      "          6,    1, 7890, 8043,    2, 6452, 8050,    2,    5, 6082,  626,\n",
      "       6854, 3178, 1064, 8050,    3,   19, 2227,    9,   56,    4, 1593,\n",
      "          2, 5366,  194, 2808,  106,    1,   98, 1451, 1377,   43,    4,\n",
      "       7757, 1203,  316,   89,    4, 1334, 1209,    3,  135, 7968,    8,\n",
      "         33,   81, 6639, 7837,   44,  208,   24,   10,   16,   10,   17,\n",
      "       7968, 6548, 7962, 1251,   25,    1,  108,  778,    2,    9,   97,\n",
      "       7269, 7961,    7,    1, 1961,    3,   19, 7483, 2632,    6, 7255,\n",
      "       5365,    9, 2125,  652, 4831,  104,    2,   48,    1, 2880, 1477,\n",
      "         34, 1992, 1577, 7961,    7,    1, 6064,  360, 2387, 1209, 2356,\n",
      "          3,   19,  724, 1882, 7974,  177,  256,    1, 1992, 1577, 7961,\n",
      "          5, 4022, 5062,  863,    2,   11,   73,    1, 5758,    9, 6460,\n",
      "        453,  130,    4, 1668,    2,    4, 2403,  120,  538, 7968,   21,\n",
      "         31,   93,  193, 1257,    3, 3371,  713, 6626,   49,    9,   41,\n",
      "       5234, 7961, 3864,   24,   10,   16,   10,   17,  128,    1, 3246,\n",
      "        858, 5550,  353,    9,  114,  224,    2,    1, 2398,  339, 2493,\n",
      "       3553, 2975,    6,    1, 2696,    2,    1, 1183, 8029,    2, 4967,\n",
      "       1274,    2, 1036, 3746,   47,    5, 5541, 5688,   29,   51, 3339,\n",
      "         56,   20, 3608,   20,   19, 5057, 7961,   70,   31, 5324, 8029,\n",
      "         24,   10,   16,   10,   17,  134,  144,   91,    9, 3498,    3,\n",
      "       3669, 7961, 1325, 1093,   47,    9,    4, 7046, 7961,   20,    1,\n",
      "       5224,   47, 4296,  967,  633, 1074,    2, 6279, 6548, 7961, 4438,\n",
      "         40,   57, 2408, 2811, 5848,    7, 1506,  334,   24,   10,   16,\n",
      "         10,   17, 2130,   33, 6241, 6007,  124,    2, 5863, 4685, 1397,\n",
      "       8045,   95,  546,    4, 4296, 7961,   48, 7449, 7968,    8, 2236,\n",
      "       8045, 7974,  272,   95,  379,    4,  763, 3347,   47,   22, 1379,\n",
      "       1004, 7961,   43,  376, 7974,  652, 4831,   34,  138,   20,    4,\n",
      "         97,   68, 2902,  899,  102, 3595,   89,   18, 6639,  413, 7968,\n",
      "          8,  787,    3,  147,    1, 1334,    2,   42,   18, 2577, 7878,\n",
      "       6455, 1344,    2, 5782,   34,   63,    6,   30,  285, 2754,    7,\n",
      "          1, 3130,  863,    8,   11, 1147,    7, 3563, 7961, 1431,   28,\n",
      "        271,   42,   18,  114, 2135,    5, 6161, 8029,  158, 3056, 3950,\n",
      "          8,   11,    1,   65,    2,   42,    9, 3339,   20,  195,    6,\n",
      "          4,  336, 5803,  810, 7974, 6770, 8030,    2,    4,  599,    6,\n",
      "       7028, 2684,  352, 2040, 6491,  316,   89,    4, 5147,  125,    6,\n",
      "       1515,    2,    1, 4812,  139,    4,  933, 7974, 5568, 1339, 7974,\n",
      "       5299,  812, 1621,  166,  475,    3, 4976, 1858,    2,   67,  214,\n",
      "        763, 3347,  440,   29,  949,   22, 6639, 4574, 7968,    8,  787,\n",
      "          3,  404,    6,    1,  107, 2140, 1588,   29, 5760, 2073,    3,\n",
      "        768,  302, 6054,   49,    5, 1665,    9, 2322, 1139,   36,    7,\n",
      "       4746,  182, 3733, 1463, 4662,  353, 6279,   44,    1,  226,  101,\n",
      "       7033, 2117,   23, 1515,  120, 4735, 5210, 2701,  190,    3, 6071,\n",
      "       7961,    9,  176, 2145,  360,    7, 1537,    2,  894, 1383, 6708,\n",
      "         49, 5788, 1990,   64, 2736,    8, 1808, 2153,  100,    2,    5,\n",
      "       2408, 2811, 5848,  265,    4, 6720,   64, 5764, 1868, 7974, 7689,\n",
      "       2842,   24,   10,   16,   10,   17, 2478, 1739,    9, 2097,    2,\n",
      "        271,   53,  110, 1336,  557, 1692, 1370, 2089, 3793,    3, 4312,\n",
      "       2407,  895, 2026, 6924,   30, 3870,  124,    3, 3266,   30,    5,\n",
      "         82, 4370,  211,    9,    1,   45,   11,   73,    1,  386,  327,\n",
      "       6905,  254,  130,   46,   96, 3972, 1581,  135, 7968,    8, 1370,\n",
      "       2089, 3793, 8050,    2,   26,   39, 7968,    8, 6639, 7837,  192,\n",
      "          5, 1884,   24,   10,   16,   10,   17,   12,  117,  186,  136,\n",
      "          3,   12,  117, 2215,  228,    1,  650, 1771, 7974, 3642, 8044,\n",
      "          2,    1, 4129, 7961,    6,    1, 2186,    5, 2234,    3,  173,\n",
      "          9, 1382, 7974,  887,  188,   48,   68, 1127, 4388, 3305,    8,\n",
      "         89,   37,  117, 3977,   49,    4, 2797,  565,   24,   10,   16,\n",
      "         10,   17,   12, 3784,   21,    7,  257,   15,  467, 4854,    2,\n",
      "         26, 8002, 7968,  111,  861,   68,   52, 6690,  766,  837, 1076,\n",
      "          3,  699, 3942,   15,   76,   22,  155, 2400, 3045, 1064,    3,\n",
      "        684,  314,   57,   93,  193, 5418, 8029, 7975])>, <tf.Tensor: shape=(), dtype=int64, numpy=1>)\n",
      "(<tf.Tensor: shape=(194,), dtype=int64, numpy=\n",
      "array([2080, 4956,   90, 7174,    4, 4669,  190,   25,  162,   15,  377,\n",
      "         90, 6989, 7961, 6278,   90,   62,   27, 3931, 8044,    3,   69,\n",
      "         18,   45,    6,    1, 7574,  171,  131,  284,    6,  310,    3,\n",
      "        134,  131,   31,    7,  202,  131,  304,   11,  174,   22,  310,\n",
      "          2,   87,   18,  122,   11,   14, 6972,   24,   10,   16,   10,\n",
      "         17, 1321,  390,   18, 4449,    5,   71,  131,  580,    1,  107,\n",
      "         18,    1, 5353,    5,    1, 3267, 4908,   49,   15,   18, 1006,\n",
      "         37,   83,  509,   13,   53,  356,    4,  238,   94,    1,   27,\n",
      "          1, 1109, 4223, 7961,   85, 2266,   24,   10,   16,   10,   17,\n",
      "         12,  710,   14, 2059, 3646,    5,  955,   83, 1508,    1,   65,\n",
      "          2,    1, 2155,    9, 4627,    9,   67, 2035,    5, 8034, 7968,\n",
      "        111,  399,  955,   29,  215,    7,   52,   39,    3, 7174,    4,\n",
      "       5557,   40,  199,  507,   68,    5,   84, 1037,    1,   27, 2490,\n",
      "         55,  143, 4073, 8044,    3, 1321, 2156, 7974,   76,    5, 3267,\n",
      "       4908,   49,    9,   67,   67, 4004,    5,    1, 1109,   25, 1109,\n",
      "        211,    9, 2266,    3, 2591,   64,    1,   45,  145,   87,  354,\n",
      "         52,   41, 7362,    3,  135, 7968,    8,    4,  279,   86,    5,\n",
      "        131,  710,  955, 3576,   82, 2213, 8044])>, <tf.Tensor: shape=(), dtype=int64, numpy=1>)\n",
      "(<tf.Tensor: shape=(408,), dtype=int64, numpy=\n",
      "array([  12,  284,   14,   32,   25, 1975,   49, 7079,   28,   73, 3632,\n",
      "       3979, 3346,  126,  105, 8044,  297, 3768, 1440,   58,   26, 6137,\n",
      "        124,   95,   15,   18,  248,    3, 6224,   88,  407,   99,    6,\n",
      "          1, 1006,  184, 3976,   50, 2039,  898, 1527,   28,    6,   73,\n",
      "         91,    9, 4549,   58,   26,   99, 6137,  124,    2,  971,   71,\n",
      "        121,  202,   12,  270,    1,   32,   18, 7911,   11,   39, 7968,\n",
      "          8, 6216, 7961,    6, 6561, 7961, 5024,   22, 6970, 2437,   24,\n",
      "         10,   16,   10,   17,  135, 7968,    8, 1597, 5217,  515, 7968,\n",
      "          8, 2589, 3108,    2,  466, 7968,  182,   33, 3030,  826,    2,\n",
      "       1690, 5270, 7961,  170,   46, 2144, 3095,   49,  192, 6647, 7961,\n",
      "         22, 3850,  200,  662, 7145,    3, 5434, 7968,  182,  671,    5,\n",
      "         53,  964,   52,  671, 2815,  221,   10,   16,   10,   17, 5434,\n",
      "       7968,  182, 2880,  475,    2, 7161,    5, 3208,   64, 4862,   60,\n",
      "       3836,    3, 1071,    2,   14,  117,   35,   43, 3047, 7961,    5,\n",
      "         53,  117,   56,   35,  132,  263,   26,   12,  109, 7968,   21,\n",
      "        129,  325,    3, 3431, 4321, 7961, 1946, 8037, 2267, 1098, 5822,\n",
      "        190,   28,   72,   33,  337,    7,   35, 2724,   58,    4,   67,\n",
      "       2507,  390,    5,   12,  674,  138,   23,   39,    3, 2114, 1408,\n",
      "       1166,  758, 1660, 5673, 3559, 1723, 1361,    5, 3208,    2,   26,\n",
      "         87,   18, 6970,   21,    5,    4, 6561,   88,   19, 6728,    6,\n",
      "          1,  146,  260, 7968,   21,  984, 1003, 1182, 1493,   25,  155,\n",
      "       3190,  863,    3,   19,  184,   18, 7620, 2343,    5,   26,   55,\n",
      "        747,   88,   12, 6870, 7961,  295,    2,   30, 1544,  709,    5,\n",
      "        770, 6900,    7, 1671, 8030,   95,   59, 5640,    2,  419, 2044,\n",
      "        495, 5542,   40, 1881,    7, 1118,  161, 7269, 7961, 1176,    3,\n",
      "         12,  129,    1,  400,    2, 2399,   43,  406, 1019,    2, 3098,\n",
      "       4949,  797, 3136,   31,   93, 1517,    5, 5672,   26,   53, 2191,\n",
      "       7968, 8045,    3,   69, 3219,    8,    1, 5013,  472,    6,    1,\n",
      "       2583,  466, 7968,  182,  179,    2,   13,  227, 7968,    8, 2598,\n",
      "         11, 1538,    5,   87, 6237,   25, 1618,  199,   22,    1, 6069,\n",
      "          3,   12,  524, 6166,   44,   59,   23,  142,    2,   12,  524,\n",
      "       6166,   44,  138,   23,  139,  178,    4, 1234,    5,   23,  886,\n",
      "       2261,  310,    3,   12,  524,   15,  208,   24,   10,   16,   10,\n",
      "         17,  147,    1,  272,    2,   12,  674,   15,    5,   70,  505,\n",
      "         39,   24,   10,   16,   10,   17, 2561,   61,   23,    1,  211,\n",
      "        145, 3431, 4321, 7961, 1946, 8037, 2267, 1098, 2070,   48,    1,\n",
      "       2462, 5837,  199, 2110, 4123, 7887, 6044, 3105,   95, 1744, 1142,\n",
      "       7975])>, <tf.Tensor: shape=(), dtype=int64, numpy=1>)\n",
      "(<tf.Tensor: shape=(248,), dtype=int64, numpy=\n",
      "array([  62,   18,    4, 4518, 2920,    5,  966,   27,   13,   12,  767,\n",
      "        243,  140, 6118, 7961,    6,  218, 6091,    2,  143,  603,    3,\n",
      "         19, 2222,   18, 5095, 7961,   11, 6660,   34,   76,    1,  266,\n",
      "         22,    1, 1823,  400,    3,  173,   29,  198,    6,  199,   61,\n",
      "        307,   46,   81,  110, 2284,   74,  263,    5,   41, 2818,   98,\n",
      "       6093,    3,  249,   23, 2635,  131, 2082,  504,    2,   87,    9,\n",
      "        486,    5,    4, 5574, 7961,    7,  119,  312,    6,  651,   11,\n",
      "         73,   87, 1837,    3,   12,  278,  115,    4,  344,    7,   86,\n",
      "       2635,  131, 2082,  591,   11,   51,   59, 1715,    3,  329,    9,\n",
      "          4, 2402, 1215,    5,    4, 6323,    7,  163,   20,  340, 4281,\n",
      "        452,    6,   59,  168,  327,    7,  277,    3,   12,   83,   77,\n",
      "         35, 3424, 6333, 7961,   72,   12,   86,  178,   41, 4449, 1050,\n",
      "         23,  107,    6,    1, 3701, 5141,  126,   68, 2523,  832,   74,\n",
      "        400,    2,   74,  602,    8,    5,   74,  443,    3,   19,   27,\n",
      "       2856, 1220, 1872,  190,    2,   33, 4648, 1067, 4594, 5814,    2,\n",
      "         46,  832, 4478,  708,  472,    5, 2036,    3,  693,  650,    7,\n",
      "         86,  212, 4271,    8,   52, 2407, 2249, 1137,  136,    2, 3393,\n",
      "       2106, 5632, 7961, 6504, 7617,    8,    5, 4954,  222,  687,  736,\n",
      "          3,   12,   70,   52,    7,   86,   14,   27, 2274,    1, 4073,\n",
      "          8,   15, 7071, 8044,    3, 7076,   37,  477,   23,    4, 5805,\n",
      "       7884,    8,  702,    6, 2891,    3,   12, 1131, 3424, 4211,   49,\n",
      "          1, 1626,    2,  575,    2, 6087,    2,    5,   51,  198,   46,\n",
      "        162,  178,    4,  822, 1457, 7975])>, <tf.Tensor: shape=(), dtype=int64, numpy=1>)\n",
      "(<tf.Tensor: shape=(193,), dtype=int64, numpy=\n",
      "array([  12,   31,   84,  480,   71,    1,  108, 7748,    9, 1130,  776,\n",
      "        424,   14,   18,    4,  650,   65,    2,    5, 2411,    4,  471,\n",
      "          6,    1, 3330,   13, 1200,   52,  101, 3007,    3,   19,  170,\n",
      "         29,  485, 2554,    2, 2647,    9,    4, 1000, 3043,   23, 7995,\n",
      "       2962,  136,    2, 7455,   49,    9, 1804, 1182, 2860,    5,    4,\n",
      "        610,   40, 3208,    2, 5615, 5608,  131,    9,    4, 2865, 2145,\n",
      "        413, 7974,  267, 1943, 1671, 2898, 8045,  230,   51,   29, 2055,\n",
      "          2, 5958,  449,    2,    5, 2292,  475,  230,   33,    1, 6810,\n",
      "       7961, 7182,    8,   53,   29,   11, 5083, 4426,   24,   10,   16,\n",
      "         10,   17, 5083, 4426, 7961,  815,   20,   41, 4858,  612,    6,\n",
      "       5115,   66,    2,    5,   12,  674,   15,   23,  402, 5785,    2,\n",
      "         26,   14,  815,   52,    4, 2654, 5992,   21,    5, 8002, 4115,\n",
      "         47,   66,    2,    5,   18,   48,   82, 1767, 2309,    1,  175,\n",
      "       4974,    6,   71,    1, 7697,  279,   31,  524,  463,    3, 4108,\n",
      "       1540,    2, 1551,    2,   26,  446,  376, 2723, 1595,   82, 1303,\n",
      "         11,    1,  919,    6,  756, 1161,   47,    5, 7995, 2962,   25,\n",
      "        242,  101,   12,  129,   60,    1,   66,    3,  373,    6,   82,\n",
      "        208, 7974,  101, 4271, 8044, 7975])>, <tf.Tensor: shape=(), dtype=int64, numpy=1>)\n"
     ]
    }
   ],
   "source": [
    "for i in train_data.take(5):\n",
    "    print(i)"
   ]
  },
  {
   "cell_type": "code",
   "execution_count": 7,
   "metadata": {},
   "outputs": [],
   "source": [
    "# 使用padded_batch方法来标准化评论的长度\n",
    "padded_shapes=([None],())\n",
    "train_batchs=train_data.shuffle(1000).padded_batch(10,padded_shapes=padded_shapes)\n",
    "test_batchs=test_data.shuffle(1000).padded_batch(10,padded_shapes=padded_shapes)"
   ]
  },
  {
   "cell_type": "code",
   "execution_count": 8,
   "metadata": {},
   "outputs": [
    {
     "data": {
      "text/plain": [
       "(array([[7522, 4943,    9, ...,    0,    0,    0],\n",
       "        [  12,  800,  359, ...,    0,    0,    0],\n",
       "        [7963,   19, 6957, ...,    0,    0,    0],\n",
       "        ...,\n",
       "        [  19,   27,  732, ...,    0,    0,    0],\n",
       "        [ 133,  822, 1890, ...,    0,    0,    0],\n",
       "        [7989,   10,   16, ...,    0,    0,    0]]), (10, 382))"
      ]
     },
     "execution_count": 8,
     "metadata": {},
     "output_type": "execute_result"
    }
   ],
   "source": [
    "# 样本都被padding到了每一批中最长的样本长度\n",
    "train_batch,train_label=next(iter(train_batchs))\n",
    "train_batch.numpy(),train_batch.numpy().shape"
   ]
  },
  {
   "cell_type": "markdown",
   "metadata": {},
   "source": [
    "### 创建连续词袋模型 "
   ]
  },
  {
   "cell_type": "markdown",
   "metadata": {},
   "source": [
    "1. 接下来，嵌入层采用整数编码的词汇表，并查找每个单词索引的嵌入向量。这些向量作为模型训练来学习。嵌入向量向输出数组添加一个维度。生成的维度是：（批处理、序列、嵌入）。 \n",
    "2. 接下来，GlobalAveragePooling1D层通过在序列维度上求平均值来为每个示例返回固定长度的输出向量。这允许模型以最简单的方式处理可变长度的输入。\n",
    "3. 这个固定长度的输出向量通过一个具有16个隐藏单元的完全连接（密集）层进行管道传输。\n",
    "4. 最后一层与单个输出节点紧密连接。使用sigmoid激活函数，这个值是介于0和1之间的一个浮点数，表示评审为正的概率（或置信水平）。"
   ]
  },
  {
   "cell_type": "code",
   "execution_count": 9,
   "metadata": {},
   "outputs": [
    {
     "name": "stdout",
     "output_type": "stream",
     "text": [
      "Model: \"sequential\"\n",
      "_________________________________________________________________\n",
      "Layer (type)                 Output Shape              Param #   \n",
      "=================================================================\n",
      "embedding (Embedding)        (None, None, 50)          409250    \n",
      "_________________________________________________________________\n",
      "global_average_pooling1d (Gl (None, 50)                0         \n",
      "_________________________________________________________________\n",
      "dense (Dense)                (None, 1)                 51        \n",
      "=================================================================\n",
      "Total params: 409,301\n",
      "Trainable params: 409,301\n",
      "Non-trainable params: 0\n",
      "_________________________________________________________________\n"
     ]
    }
   ],
   "source": [
    "embedding_dim=50\n",
    "model=keras.Sequential([\n",
    "    layers.Embedding(encoder.vocab_size,embedding_dim),\n",
    "    layers.GlobalAveragePooling1D(),\n",
    "    # 删除这一层，模型更加简单，获得的词向量更具有解释性\n",
    "#     layers.Dense(16,activation='relu'),\n",
    "    layers.Dense(1,activation='sigmoid')\n",
    "])\n",
    "model.summary()"
   ]
  },
  {
   "cell_type": "code",
   "execution_count": 12,
   "metadata": {},
   "outputs": [],
   "source": [
    "checkpoint_save_path = \"./word_embedding/word_embedding.ckpt\"\n",
    "\n",
    "# 用于加载模型，checkpoint中保存好了已经训练好了的模型权重，加载之后可以不用训练了\n",
    "# if os.path.exists(checkpoint_save_path + '.index'):\n",
    "#     print('-------------load the model-----------------')\n",
    "#     model.load_weights(checkpoint_save_path)\n",
    "\n",
    "cp_callback = tf.keras.callbacks.ModelCheckpoint(filepath=checkpoint_save_path,\n",
    "                                                 save_weights_only=True,\n",
    "                                                 # monitor='loss',\n",
    "                                                 # save_best_only=True,\n",
    "                                                 verbose=2)"
   ]
  },
  {
   "cell_type": "code",
   "execution_count": 15,
   "metadata": {},
   "outputs": [
    {
     "name": "stdout",
     "output_type": "stream",
     "text": [
      "Epoch 1/10\n",
      "   2500/Unknown - 13s 5ms/step - loss: 0.5815 - accuracy: 0.7359\n",
      "Epoch 00001: saving model to ./word_embedding/word_embedding.ckpt\n",
      "2500/2500 [==============================] - 16s 6ms/step - loss: 0.5815 - accuracy: 0.7359 - val_loss: 0.4584 - val_accuracy: 0.8372\n",
      "Epoch 2/10\n",
      "2487/2500 [============================>.] - ETA: 0s - loss: 0.3737 - accuracy: 0.8696\n",
      "Epoch 00002: saving model to ./word_embedding/word_embedding.ckpt\n",
      "2500/2500 [==============================] - 12s 5ms/step - loss: 0.3735 - accuracy: 0.8699 - val_loss: 0.3569 - val_accuracy: 0.8682\n",
      "Epoch 3/10\n",
      "2485/2500 [============================>.] - ETA: 0s - loss: 0.2932 - accuracy: 0.8981\n",
      "Epoch 00003: saving model to ./word_embedding/word_embedding.ckpt\n",
      "2500/2500 [==============================] - 13s 5ms/step - loss: 0.2934 - accuracy: 0.8979 - val_loss: 0.3241 - val_accuracy: 0.8776\n",
      "Epoch 4/10\n",
      "2490/2500 [============================>.] - ETA: 0s - loss: 0.2550 - accuracy: 0.9119\n",
      "Epoch 00004: saving model to ./word_embedding/word_embedding.ckpt\n",
      "2500/2500 [==============================] - 12s 5ms/step - loss: 0.2546 - accuracy: 0.9122 - val_loss: 0.3145 - val_accuracy: 0.8806\n",
      "Epoch 5/10\n",
      "2489/2500 [============================>.] - ETA: 0s - loss: 0.2263 - accuracy: 0.9232\n",
      "Epoch 00005: saving model to ./word_embedding/word_embedding.ckpt\n",
      "2500/2500 [==============================] - 12s 5ms/step - loss: 0.2264 - accuracy: 0.9231 - val_loss: 0.3160 - val_accuracy: 0.8786\n",
      "Epoch 6/10\n",
      "2499/2500 [============================>.] - ETA: 0s - loss: 0.2067 - accuracy: 0.9323\n",
      "Epoch 00006: saving model to ./word_embedding/word_embedding.ckpt\n",
      "2500/2500 [==============================] - 13s 5ms/step - loss: 0.2068 - accuracy: 0.9322 - val_loss: 0.3379 - val_accuracy: 0.8638\n",
      "Epoch 7/10\n",
      "2499/2500 [============================>.] - ETA: 0s - loss: 0.1887 - accuracy: 0.9371\n",
      "Epoch 00007: saving model to ./word_embedding/word_embedding.ckpt\n",
      "2500/2500 [==============================] - 13s 5ms/step - loss: 0.1887 - accuracy: 0.9372 - val_loss: 0.3245 - val_accuracy: 0.8791\n",
      "Epoch 8/10\n",
      "2499/2500 [============================>.] - ETA: 0s - loss: 0.1758 - accuracy: 0.9424\n",
      "Epoch 00008: saving model to ./word_embedding/word_embedding.ckpt\n",
      "2500/2500 [==============================] - 13s 5ms/step - loss: 0.1758 - accuracy: 0.9424 - val_loss: 0.3378 - val_accuracy: 0.8773\n",
      "Epoch 9/10\n",
      "2497/2500 [============================>.] - ETA: 0s - loss: 0.1624 - accuracy: 0.9465\n",
      "Epoch 00009: saving model to ./word_embedding/word_embedding.ckpt\n",
      "2500/2500 [==============================] - 13s 5ms/step - loss: 0.1623 - accuracy: 0.9465 - val_loss: 0.3545 - val_accuracy: 0.8726\n",
      "Epoch 10/10\n",
      "2499/2500 [============================>.] - ETA: 0s - loss: 0.1518 - accuracy: 0.9509\n",
      "Epoch 00010: saving model to ./word_embedding/word_embedding.ckpt\n",
      "2500/2500 [==============================] - 13s 5ms/step - loss: 0.1518 - accuracy: 0.9509 - val_loss: 0.3627 - val_accuracy: 0.8737\n"
     ]
    }
   ],
   "source": [
    "model.compile(optimizer='adam',\n",
    "             loss='binary_crossentropy',\n",
    "             metrics=['accuracy'])\n",
    "history=model.fit(train_batchs,validation_data=test_batchs,epochs=10,callbacks=[cp_callback])"
   ]
  },
  {
   "cell_type": "code",
   "execution_count": 169,
   "metadata": {},
   "outputs": [
    {
     "data": {
      "text/html": [
       "<div>\n",
       "<style scoped>\n",
       "    .dataframe tbody tr th:only-of-type {\n",
       "        vertical-align: middle;\n",
       "    }\n",
       "\n",
       "    .dataframe tbody tr th {\n",
       "        vertical-align: top;\n",
       "    }\n",
       "\n",
       "    .dataframe thead th {\n",
       "        text-align: right;\n",
       "    }\n",
       "</style>\n",
       "<table border=\"1\" class=\"dataframe\">\n",
       "  <thead>\n",
       "    <tr style=\"text-align: right;\">\n",
       "      <th></th>\n",
       "      <th>loss</th>\n",
       "      <th>accuracy</th>\n",
       "      <th>val_loss</th>\n",
       "      <th>val_accuracy</th>\n",
       "      <th>epoch</th>\n",
       "    </tr>\n",
       "  </thead>\n",
       "  <tbody>\n",
       "    <tr>\n",
       "      <th>5</th>\n",
       "      <td>0.202403</td>\n",
       "      <td>0.93136</td>\n",
       "      <td>0.312740</td>\n",
       "      <td>0.87992</td>\n",
       "      <td>5</td>\n",
       "    </tr>\n",
       "    <tr>\n",
       "      <th>6</th>\n",
       "      <td>0.187597</td>\n",
       "      <td>0.93800</td>\n",
       "      <td>0.328004</td>\n",
       "      <td>0.87992</td>\n",
       "      <td>6</td>\n",
       "    </tr>\n",
       "    <tr>\n",
       "      <th>7</th>\n",
       "      <td>0.171211</td>\n",
       "      <td>0.94360</td>\n",
       "      <td>0.336856</td>\n",
       "      <td>0.87812</td>\n",
       "      <td>7</td>\n",
       "    </tr>\n",
       "    <tr>\n",
       "      <th>8</th>\n",
       "      <td>0.160657</td>\n",
       "      <td>0.94848</td>\n",
       "      <td>0.346631</td>\n",
       "      <td>0.87600</td>\n",
       "      <td>8</td>\n",
       "    </tr>\n",
       "    <tr>\n",
       "      <th>9</th>\n",
       "      <td>0.147951</td>\n",
       "      <td>0.95196</td>\n",
       "      <td>0.366205</td>\n",
       "      <td>0.87292</td>\n",
       "      <td>9</td>\n",
       "    </tr>\n",
       "  </tbody>\n",
       "</table>\n",
       "</div>"
      ],
      "text/plain": [
       "       loss  accuracy  val_loss  val_accuracy  epoch\n",
       "5  0.202403   0.93136  0.312740       0.87992      5\n",
       "6  0.187597   0.93800  0.328004       0.87992      6\n",
       "7  0.171211   0.94360  0.336856       0.87812      7\n",
       "8  0.160657   0.94848  0.346631       0.87600      8\n",
       "9  0.147951   0.95196  0.366205       0.87292      9"
      ]
     },
     "execution_count": 169,
     "metadata": {},
     "output_type": "execute_result"
    }
   ],
   "source": [
    "import pandas as pd\n",
    "hist=pd.DataFrame(history.history)\n",
    "hist['epoch']=history.epoch\n",
    "hist.tail()"
   ]
  },
  {
   "cell_type": "code",
   "execution_count": 170,
   "metadata": {},
   "outputs": [
    {
     "data": {
      "image/png": "[encoded data removed]",
      "text/plain": [
       "<Figure size 864x648 with 1 Axes>"
      ]
     },
     "metadata": {
      "needs_background": "light"
     },
     "output_type": "display_data"
    },
    {
     "data": {
      "image/png": "[encoded data removed]",
      "text/plain": [
       "<Figure size 864x648 with 1 Axes>"
      ]
     },
     "metadata": {
      "needs_background": "light"
     },
     "output_type": "display_data"
    }
   ],
   "source": [
    "import matplotlib.pyplot as plt\n",
    "\n",
    "def plot_histrory(hist):\n",
    "    acc=hist['accuracy']\n",
    "    val_acc=hist['val_accuracy']\n",
    "    loss=hist['loss']\n",
    "    val_loss=hist['val_loss']\n",
    "    epochs=hist['epoch']\n",
    "    \n",
    "    plt.figure(figsize=(12,9))\n",
    "    plt.xlabel('Epochs')\n",
    "    plt.ylabel('Loss')\n",
    "    plt.plot(epochs,loss,'b',label='loss')\n",
    "    plt.plot(epochs,val_loss,'y',label='val_loss')\n",
    "    plt.legend()\n",
    "    \n",
    "    plt.figure(figsize=(12,9))\n",
    "    plt.xlabel('Epochs')\n",
    "    plt.ylabel('accuracy')\n",
    "    plt.plot(epochs,acc,'b',label='accuracy')\n",
    "    plt.plot(epochs,val_acc,'y',label='val_accuracy')\n",
    "    plt.ylim((0.5,1))\n",
    "    plt.legend()\n",
    "    plt.show()\n",
    "    \n",
    "plot_histrory(hist)\n",
    "    \n"
   ]
  },
  {
   "cell_type": "markdown",
   "metadata": {},
   "source": [
    "过拟合了，应该使用early stop"
   ]
  },
  {
   "cell_type": "markdown",
   "metadata": {},
   "source": [
    "## 取回训练后的词向量"
   ]
  },
  {
   "cell_type": "code",
   "execution_count": 13,
   "metadata": {},
   "outputs": [
    {
     "name": "stdout",
     "output_type": "stream",
     "text": [
      "(8185, 50)\n"
     ]
    }
   ],
   "source": [
    "# 词向量的维度是（vocab_size,embeddind_dim)\n",
    "embedding=model.layers[0]\n",
    "weights=embedding.get_weights()[0]\n",
    "print(weights.shape)\n",
    "# # shape: (vocab_size, embedding_dim)"
   ]
  },
  {
   "cell_type": "code",
   "execution_count": 14,
   "metadata": {},
   "outputs": [
    {
     "data": {
      "text/plain": [
       "array([[-0.00200098, -0.00894768,  0.0265508 , ..., -0.04243807,\n",
       "        -0.00289176,  0.04330957],\n",
       "       [ 0.02415383, -0.04092653,  0.01354494, ...,  0.00343876,\n",
       "        -0.04074351, -0.01056439],\n",
       "       [-0.00155406, -0.00306863, -0.04088452, ..., -0.04048749,\n",
       "        -0.03588666,  0.01566445],\n",
       "       ...,\n",
       "       [-0.0021259 , -0.03626452,  0.02365471, ..., -0.02907554,\n",
       "        -0.02835467,  0.02194622],\n",
       "       [ 0.01962468,  0.01224951, -0.00076783, ...,  0.02989665,\n",
       "         0.00915754, -0.01785647],\n",
       "       [-0.03002352, -0.01256516,  0.04654053, ..., -0.03256654,\n",
       "         0.03335262, -0.02600336]], dtype=float32)"
      ]
     },
     "execution_count": 14,
     "metadata": {},
     "output_type": "execute_result"
    }
   ],
   "source": [
    "weights"
   ]
  },
  {
   "cell_type": "code",
   "execution_count": 12,
   "metadata": {},
   "outputs": [],
   "source": [
    "# 将得到的词向量与对于单词保存到文本中\n",
    "# 以下代码来自于官方教程，但是我认为这是错误的\n",
    "# 以至于之后我找最后最接近的10个单词结果很诡异\n",
    "# 词汇表中第一个单词是'the_'\n",
    "# 时间上这个单词对应的编码是[181, 8024]\n",
    "# 单词the对应的是 181，‘_'对应8024\n",
    "# 这样也就可以解释subwords只有7928个，voabsize是8025\n",
    "# 当然，以上只是我个人想法，也许我没有理解官方教程的意思\n",
    "\n",
    "vecs=[]\n",
    "import io\n",
    "encoder=info.features['text'].encoder\n",
    "out_v=io.open('word_embedding/vecs.tsv','w',encoding='utf-8')\n",
    "out_m=io.open('word_embedding/meta.tsv','w',encoding='utf-8')\n",
    "for num, word in enumerate(encoder.subwords):\n",
    "#     vec = weights[num+1] # skip 0, it's padding.\n",
    "    # 我认为正确的\n",
    "    vec=weights[encoder.encode(word)]\n",
    "    if len(vec)==1:\n",
    "        vecs.append(vec)\n",
    "    out_m.write(word + \"\\n\")\n",
    "    out_v.write('\\t'.join([str(x) for x in vec]) + \"\\n\")\n",
    "out_v.close()\n",
    "out_m.close()"
   ]
  },
  {
   "cell_type": "markdown",
   "metadata": {},
   "source": [
    "## 找最相似的10个单词"
   ]
  },
  {
   "cell_type": "code",
   "execution_count": 21,
   "metadata": {},
   "outputs": [
    {
     "data": {
      "text/plain": [
       "(7928, 8185)"
      ]
     },
     "execution_count": 21,
     "metadata": {},
     "output_type": "execute_result"
    }
   ],
   "source": [
    "len(encoder.subwords),encoder.vocab_size #encoder中遍历单词个数与vocab_size不一致\n",
    "# 原因是 subwords包含的是单词以及部分词根，而词汇表中包含了一些符号，如'_',','等等"
   ]
  },
  {
   "cell_type": "code",
   "execution_count": 22,
   "metadata": {},
   "outputs": [],
   "source": [
    "import numpy as np"
   ]
  },
  {
   "cell_type": "code",
   "execution_count": 23,
   "metadata": {},
   "outputs": [],
   "source": [
    "# 计算两个词向量的距离\n",
    "def calDistance(x1,x2):\n",
    "    return np.sum(np.square(x1-x2))"
   ]
  },
  {
   "cell_type": "code",
   "execution_count": 24,
   "metadata": {},
   "outputs": [],
   "source": [
    "#  构建距离矩阵\n",
    "def build_distance_matrix(vec):\n",
    "    # 距离矩阵\n",
    "    D=[[0 for _ in range(len(vec))] for _ in range(len(vec))]\n",
    "    # 注意矩阵是关于对角线对称的，只需要计算上三角\n",
    "    for i in range(len(vec)):\n",
    "        if i%100==0:\n",
    "            print('*',end=' ')\n",
    "        for j in range(i,len(vec)):\n",
    "            dis=calDistance(vec[i],vec[j])\n",
    "            D[i][j]=dis\n",
    "            D[j][i]=dis\n",
    "    return D"
   ]
  },
  {
   "cell_type": "code",
   "execution_count": 25,
   "metadata": {},
   "outputs": [],
   "source": [
    "# 获得单词与其对应的索引\n",
    "def get_index_and_word(encoder):\n",
    "    vocabulary=[]\n",
    "    for word in encoder.subwords:\n",
    "        if word[-1]=='_' or word[-1]==' ':\n",
    "            word=word[:-1] #去掉最后的‘_'\n",
    "        # 这个index才是单词在embedding层中真正对应的index\n",
    "        index=encoder.encode(word)\n",
    "        vocabulary.append((index,word))\n",
    "    return vocabulary"
   ]
  },
  {
   "cell_type": "code",
   "execution_count": 26,
   "metadata": {},
   "outputs": [],
   "source": [
    "# 包含了（index，word）其中index是embeding层中对应的index\n",
    "vocab=get_index_and_word(encoder)"
   ]
  },
  {
   "cell_type": "code",
   "execution_count": 27,
   "metadata": {},
   "outputs": [
    {
     "name": "stdout",
     "output_type": "stream",
     "text": [
      "[181]\n",
      "the\n"
     ]
    }
   ],
   "source": [
    "index,word=vocab[0]\n",
    "print(index)\n",
    "print(word)"
   ]
  },
  {
   "cell_type": "code",
   "execution_count": 28,
   "metadata": {},
   "outputs": [
    {
     "name": "stdout",
     "output_type": "stream",
     "text": [
      "5375\n"
     ]
    }
   ],
   "source": [
    "vec=[]\n",
    "words=[]\n",
    "# 下面依据index构建词向量矩阵与单词矩阵\n",
    "for (index,word) in vocab:\n",
    "    \n",
    "    #  注意有些词是合成的，所以有多个index，对于这些词，就不管了\n",
    "    if len(index)==1 and word not in words:\n",
    "        vec.append(weights[index[0]])\n",
    "        words.append(word)\n",
    "print(len(vec))"
   ]
  },
  {
   "cell_type": "code",
   "execution_count": 29,
   "metadata": {},
   "outputs": [
    {
     "data": {
      "text/plain": [
       "(68, 121, 355)"
      ]
     },
     "execution_count": 29,
     "metadata": {},
     "output_type": "execute_result"
    }
   ],
   "source": [
    "words.index('good'),words.index('bad'),words.index('nice')"
   ]
  },
  {
   "cell_type": "code",
   "execution_count": 30,
   "metadata": {},
   "outputs": [
    {
     "name": "stdout",
     "output_type": "stream",
     "text": [
      "distance between good and bad is 0.0956316590309143)\n",
      "distance between good and nice is 0.08410060405731201)\n"
     ]
    }
   ],
   "source": [
    "# 测试一下 good 与 nice，应该很接近\n",
    "# good与bad很远\n",
    "print(f'distance between {words[68]} and {words[121]} is {calDistance(vec[68],vec[121])})')\n",
    "print(f'distance between {words[68]} and {words[355]} is {calDistance(vec[68],vec[355])})')\n",
    "\n"
   ]
  },
  {
   "cell_type": "code",
   "execution_count": 31,
   "metadata": {},
   "outputs": [
    {
     "name": "stdout",
     "output_type": "stream",
     "text": [
      "* * * * * * * * * * * * * * * * * * * * * * * * * * * * * * * * * * * * * * * * * * * * * * * * * * * * * * "
     ]
    }
   ],
   "source": [
    "D=build_distance_matrix(vec)"
   ]
  },
  {
   "cell_type": "code",
   "execution_count": 32,
   "metadata": {},
   "outputs": [
    {
     "data": {
      "text/plain": [
       "(449, array([-0.02377599,  0.00275905,  0.02319555,  0.02774049, -0.03836197,\n",
       "         0.04281512, -0.04666506, -0.01896515,  0.03093101,  0.01542311,\n",
       "         0.01980628, -0.01423657,  0.01552382,  0.02122546,  0.03555961,\n",
       "         0.00566257, -0.00109243, -0.04521679, -0.02438644, -0.019045  ,\n",
       "        -0.04493141, -0.02218024, -0.00071688, -0.00735792, -0.01323647,\n",
       "         0.00185458, -0.02730581, -0.03230695, -0.00534117, -0.00681255,\n",
       "        -0.0334829 ,  0.02243051, -0.01931681,  0.03493777, -0.02028063,\n",
       "        -0.03062285,  0.00385151,  0.01561116,  0.01407261,  0.04348997,\n",
       "        -0.04264944,  0.04783405, -0.01494684,  0.04420594,  0.0337046 ,\n",
       "        -0.02745975, -0.04202387,  0.04675582,  0.0251516 , -0.00010511],\n",
       "       dtype=float32))"
      ]
     },
     "execution_count": 32,
     "metadata": {},
     "output_type": "execute_result"
    }
   ],
   "source": [
    "\n",
    "test_word='wonderful'\n",
    "test_index=words.index(test_word)\n",
    "test_index,vec[test_index]"
   ]
  },
  {
   "cell_type": "code",
   "execution_count": 33,
   "metadata": {},
   "outputs": [],
   "source": [
    "def find_top_10(D,index):\n",
    "    dis=D[index] # 获得了测试单词词向量到所有单词词向量的距离\n",
    "    \n",
    "    #下面我们需要找到distances中最小的k个元素，并且返回他们的索引就可以了\n",
    "    # argsort函数返回的是数组值从小到大的索引值\n",
    "    # 将distances变为np.array，然后对索引排序，取前k个\n",
    "    minK=np.argsort(np.array(dis))[:10]\n",
    "    print(minK)\n",
    "    result=[]\n",
    "    for i in range(10):\n",
    "        result.append(words[minK[i]])\n",
    "    return result"
   ]
  },
  {
   "cell_type": "code",
   "execution_count": 35,
   "metadata": {},
   "outputs": [
    {
     "name": "stdout",
     "output_type": "stream",
     "text": [
      "[ 449  196  608 5048 2357 3636   99 3756  153 5039]\n"
     ]
    },
    {
     "data": {
      "text/plain": [
       "['wonderful',\n",
       " 'why',\n",
       " 'ig',\n",
       " 'rah',\n",
       " 'appearance',\n",
       " 'stan',\n",
       " 'other',\n",
       " 'corny',\n",
       " 'There',\n",
       " '!!!!!!']"
      ]
     },
     "execution_count": 35,
     "metadata": {},
     "output_type": "execute_result"
    }
   ],
   "source": [
    "# 每次的结果都不一定，与训练的epoch，embedding层的初始化有关\n",
    "find_top_10(D,test_index)"
   ]
  },
  {
   "cell_type": "markdown",
   "metadata": {},
   "source": [
    "## 可视化"
   ]
  },
  {
   "cell_type": "markdown",
   "metadata": {},
   "source": [
    "1. 可以使用tensorboard\n",
    "\n",
    "2. Open the Embedding Projector(http://projector.tensorflow.org) (this can also run in a local TensorBoard instance).\n",
    "\n",
    "Click on \"Load data\".\n",
    "Upload the two files we created above: vecs.tsv and meta.tsv.\n",
    "The embeddings you have trained will now be displayed. You can search for words to find their closest neighbors. For example, try searching for \"beautiful\". You may see neighbors like \"wonderful\"."
   ]
  }
 ],
 "metadata": {
  "kernelspec": {
   "display_name": "Python 3",
   "language": "python",
   "name": "python3"
  },
  "language_info": {
   "codemirror_mode": {
    "name": "ipython",
    "version": 3
   },
   "file_extension": ".py",
   "mimetype": "text/x-python",
   "name": "python",
   "nbconvert_exporter": "python",
   "pygments_lexer": "ipython3",
   "version": "3.7.3"
  }
 },
 "nbformat": 4,
 "nbformat_minor": 2
}
